{
  "nbformat": 4,
  "nbformat_minor": 0,
  "metadata": {
    "colab": {
      "name": "poker_stats_ML.ipynb",
      "provenance": [],
      "authorship_tag": "ABX9TyPZdHYmMW4kF2e7m4G2wx8r",
      "include_colab_link": true
    },
    "kernelspec": {
      "name": "python3",
      "display_name": "Python 3"
    },
    "language_info": {
      "name": "python"
    }
  },
  "cells": [
    {
      "cell_type": "markdown",
      "metadata": {
        "id": "view-in-github",
        "colab_type": "text"
      },
      "source": [
        "<a href=\"https://colab.research.google.com/github/tsubasa05/Poker-Stats-Machine-learning/blob/main/poker_stats_ML.ipynb\" target=\"_parent\"><img src=\"https://colab.research.google.com/assets/colab-badge.svg\" alt=\"Open In Colab\"/></a>"
      ]
    },
    {
      "cell_type": "code",
      "metadata": {
        "id": "ki1s6ldBKDLH"
      },
      "source": [
        "%tensorflow_version 2.x"
      ],
      "execution_count": 73,
      "outputs": []
    },
    {
      "cell_type": "code",
      "metadata": {
        "id": "0WaDWIM2wSkp",
        "colab": {
          "base_uri": "https://localhost:8080/"
        },
        "outputId": "22b60b18-db5e-41f7-cc59-0bd4d1b1195b"
      },
      "source": [
        "from google.colab import drive\n",
        "drive.mount('/content/drive')"
      ],
      "execution_count": 74,
      "outputs": [
        {
          "output_type": "stream",
          "name": "stdout",
          "text": [
            "Drive already mounted at /content/drive; to attempt to forcibly remount, call drive.mount(\"/content/drive\", force_remount=True).\n"
          ]
        }
      ]
    },
    {
      "cell_type": "code",
      "metadata": {
        "id": "RT23p2tNJE-K"
      },
      "source": [
        "#ライブラリーのインポート、初期設定\n",
        "import os\n",
        "import numpy as np\n",
        "import random as rn\n",
        "import tensorflow as tf\n",
        "import pandas as pd\n",
        "from pandas import DataFrame\n",
        "from sklearn.model_selection import train_test_split\n",
        "\n",
        "os.environ['PYTHONHASHSEED'] = '0'\n",
        "np.random.seed(0)\n",
        "rn.seed(0)\n",
        "\n",
        "session_conf = tf.compat.v1.ConfigProto(\n",
        "        intra_op_parallelism_threads=1,\n",
        "        inter_op_parallelism_threads=1\n",
        "    )\n",
        "sess = tf.compat.v1.Session(graph=tf.compat.v1.get_default_graph(), config=session_conf)\n",
        "tf.compat.v1.keras.backend.set_session(sess)"
      ],
      "execution_count": 75,
      "outputs": []
    },
    {
      "cell_type": "code",
      "metadata": {
        "id": "PQCafZ7wSNgH"
      },
      "source": [
        "#ドライブからデータを持ってくる\n",
        "df = pd.read_csv('/content/drive/My Drive/sample all.csv')\n",
        "alldata = pd.read_csv('/content/drive/My Drive/allhand all.csv')"
      ],
      "execution_count": 76,
      "outputs": []
    },
    {
      "cell_type": "code",
      "metadata": {
        "id": "NYM9a8YrTOYf"
      },
      "source": [
        "#必要のないコラムを削除\n",
        "df.drop(['Source.Name','Total Hands','bb/100','All-in Adj bb/100'], axis=1,inplace=True)"
      ],
      "execution_count": 77,
      "outputs": []
    },
    {
      "cell_type": "code",
      "metadata": {
        "id": "o9bN-6v1Th9G"
      },
      "source": [
        "#かぶりのある行の排除\n",
        "for i in range(0,len(df)-1,3):\n",
        "  df.drop(index=[i+1],inplace=True)\n",
        "  df.drop(index=[i+2],inplace=True)"
      ],
      "execution_count": 78,
      "outputs": []
    },
    {
      "cell_type": "code",
      "metadata": {
        "id": "D2xkFMs4YmPb"
      },
      "source": [
        "#かぶりのある行の排除\n",
        "for i in range(0,len(alldata)-1,3):\n",
        "  alldata.drop(index=[i+1],inplace=True)\n",
        "  alldata.drop(index=[i+2],inplace=True)"
      ],
      "execution_count": 79,
      "outputs": []
    },
    {
      "cell_type": "code",
      "metadata": {
        "id": "83OfHM2LZLYD"
      },
      "source": [
        "#alldataをプレイヤー名と成績のみのリストに変える\n",
        "N1 = alldata.loc[:,'All-in Adj bb/100']\n",
        "N2 = alldata.loc[:,'Player']\n",
        "\n",
        "alldata2 = pd.concat([N1, N2],axis=1)"
      ],
      "execution_count": 80,
      "outputs": []
    },
    {
      "cell_type": "code",
      "metadata": {
        "id": "N_nNrpDB2pzS",
        "colab": {
          "base_uri": "https://localhost:8080/"
        },
        "outputId": "dcfc1829-13be-4de8-b3a1-6e42cea404e9"
      },
      "source": [
        "alldata2.mean()"
      ],
      "execution_count": 81,
      "outputs": [
        {
          "output_type": "execute_result",
          "data": {
            "text/plain": [
              "All-in Adj bb/100    3.9908\n",
              "dtype: float64"
            ]
          },
          "metadata": {},
          "execution_count": 81
        }
      ]
    },
    {
      "cell_type": "code",
      "metadata": {
        "id": "8gyx0G5bdwcE"
      },
      "source": [
        "#ラベルとプレイヤーの統計を結合する。ラベルは'All-in Adj bb/100'が3.72(プレイヤーの平均値)より小さい場合は0,大きい場合は1とする\n",
        "df['label']=0\n",
        "for i in range(0,len(df)-1,1):\n",
        "  for k in range(0,len(alldata2)-1,1):\n",
        "    if alldata2.iat[k,1] == df.iat[i,0]:\n",
        "      if alldata2.iat[k,0] >= 3.99:\n",
        "        df.iat[i,len(df.columns)-1]=1"
      ],
      "execution_count": 82,
      "outputs": []
    },
    {
      "cell_type": "code",
      "metadata": {
        "id": "uyYH5b5Uo-fs"
      },
      "source": [
        "#player名の列を削除\n",
        "df.drop(['Player'], axis=1,inplace=True)"
      ],
      "execution_count": 83,
      "outputs": []
    },
    {
      "cell_type": "code",
      "metadata": {
        "id": "xEZyLQdVba_0"
      },
      "source": [
        "#欠測値が10以上の列を削除\n",
        "s = df.isnull().sum()\n",
        "df.loc['欠測地'] = s\n",
        "\n",
        "df.sort_values(by='欠測地', axis=1, ascending=True, inplace=True)\n",
        "\n",
        "for i in df.columns.values:\n",
        "  if df.at['欠測地',i]>10:\n",
        "    df.drop(columns=i,inplace=True)"
      ],
      "execution_count": 84,
      "outputs": []
    },
    {
      "cell_type": "code",
      "metadata": {
        "id": "fuXFrap8bv6T"
      },
      "source": [
        "#欠測値列の排除\n",
        "df.drop(index=['欠測地'],inplace=True)"
      ],
      "execution_count": 85,
      "outputs": []
    },
    {
      "cell_type": "code",
      "metadata": {
        "id": "7xTUMTfpmALR"
      },
      "source": [
        "#特徴量と教師に分ける\n",
        "#教師データ\n",
        "Y = df.loc[:,'label'].values\n",
        "#特徴量データから教師データを削除\n",
        "df.drop(columns='label',inplace=True)\n",
        "#特徴量データの作成\n",
        "X = df.loc[:,:].values"
      ],
      "execution_count": 86,
      "outputs": []
    },
    {
      "cell_type": "markdown",
      "metadata": {
        "id": "RfF9_NMIT05g"
      },
      "source": [
        "**学習の特徴量として使用する統計はサンプル数が100以上集まったものを利用する**"
      ]
    },
    {
      "cell_type": "code",
      "metadata": {
        "id": "dxqmedG1H92C"
      },
      "source": [
        "#学習に利用する統計のみ特徴量として抽出する\n",
        "X = df.loc[:,['VPIP','Limp','PFR','Cold Call','3bet In Position','3bet Out of Position','Fold to 3Bet IP','Fold to 3Bet OOP','4Bet IP','4Bet OOP','Fold to 4Bet','5Bet (Raise 4Bet)','WTSD%','W$WSF','W$SD%','Agg','River Call Efficiency','Flop CBet IP%','Flop CBet OOP%','Flop Fold vs Cbet OOP','Flop Raise Cbet OOP','Flop Fold vs Cbet IP','Flop Raise Cbet IP','Bet Turn OOP vs Missed Flop CBet OOP','Turn CBet IP%','Turn CBet OOP%','Bet Flop vs Missed CBet','Fold Turn IP Skip CBet','Delayed Turn CBet% OOP','Check Fold Flop% As PFR','Check Raise Flop% As PFR','Delayed Turn CBet% IP','Turn Fold vs Cbet OOP','Bet River OOP vs Missed Turn CBet OOP','Turn Fold vs Cbet IP','Skip Turn CB and Fold To River Bet IP','Check Fold Turn OOP Skip CBet','Check Raise Turn OOP Skip CBet','Bet Turn IP vs Missed CBet','Flop CBet-Fold IP TOT','Flop CBet-Fold OOP TOT','River CBet OOP%','River CBet IP%']].values"
      ],
      "execution_count": 87,
      "outputs": []
    },
    {
      "cell_type": "code",
      "metadata": {
        "id": "xibcmZxvaWXt"
      },
      "source": [
        "#欠測値を平均値で補完\n",
        "from sklearn.impute import SimpleImputer\n",
        "\n",
        "imr = SimpleImputer(missing_values=np.nan, strategy='mean')\n",
        "imr = imr.fit(X)\n",
        "X = imr.transform(X)"
      ],
      "execution_count": 88,
      "outputs": []
    },
    {
      "cell_type": "code",
      "metadata": {
        "id": "feUjR7IpmZ8v"
      },
      "source": [
        "#データを訓練用とテスト用に分割\n",
        "from sklearn.model_selection import train_test_split\n",
        "\n",
        "X_train, X_test, y_train, y_test = train_test_split(\n",
        "    X, Y, test_size=0.35, random_state=0)"
      ],
      "execution_count": 95,
      "outputs": []
    },
    {
      "cell_type": "code",
      "metadata": {
        "id": "iTDlWEbl-_dr"
      },
      "source": [
        "#データの標準化\n",
        "mean = X_train.mean(axis=0)\n",
        "X_train -= mean\n",
        "std = X_train.std(axis=0)\n",
        "X_train /= std\n",
        "\n",
        "X_test -= mean\n",
        "X_test /= std"
      ],
      "execution_count": 96,
      "outputs": []
    },
    {
      "cell_type": "markdown",
      "metadata": {
        "id": "t7bmt44MUpdH"
      },
      "source": [
        "# モデルの選択および学習"
      ]
    },
    {
      "cell_type": "code",
      "metadata": {
        "id": "OUkK3I8wVcDM"
      },
      "source": [
        "#ニューラルネットワークによる分類モデル\n",
        "from tensorflow.keras import layers, models\n",
        "\n",
        "def build_model():\n",
        "    model = models.Sequential()\n",
        "    model.add(layers.Dense(50, activation='relu',\n",
        "                           input_shape=(X_train.shape[1],)))\n",
        "    model.add(layers.Dense(50, activation='relu'))\n",
        "    model.add(layers.Dense(1,activation = 'sigmoid'))\n",
        "    model.compile(optimizer='rmsprop', loss='binary_crossentropy', metrics=['acc'])\n",
        "    return model"
      ],
      "execution_count": 97,
      "outputs": []
    },
    {
      "cell_type": "code",
      "metadata": {
        "id": "TN4FCEt5EstX",
        "colab": {
          "base_uri": "https://localhost:8080/"
        },
        "outputId": "903ee527-9407-453d-cf47-9005de044a3d"
      },
      "source": [
        "#4分割交差検証\n",
        "k = 4\n",
        "num_val_samples = len(X_train) // k\n",
        "num_epochs = 300\n",
        "all_scores = []\n",
        "all_acc_histories = []\n",
        "all_val_acc_histories = []\n",
        "for i in range(k):\n",
        "    print('processing fold #', i)\n",
        "    \n",
        "    val_data = X_train[i * num_val_samples: (i + 1) * num_val_samples]\n",
        "    val_targets = y_train[i * num_val_samples: (i + 1) * num_val_samples]\n",
        "\n",
        "    partial_train_data = np.concatenate(\n",
        "        [X_train[:i * num_val_samples],\n",
        "         X_train[(i + 1) * num_val_samples:]],\n",
        "        axis=0)\n",
        "    partial_train_targets = np.concatenate(\n",
        "        [y_train[:i * num_val_samples],\n",
        "         y_train[(i + 1) * num_val_samples:]],\n",
        "        axis=0)\n",
        "\n",
        "    model = build_model()\n",
        "    history = model.fit(partial_train_data, partial_train_targets,\n",
        "                        validation_data=(val_data, val_targets),\n",
        "                        epochs=num_epochs,batch_size=1, verbose=0)\n",
        "    \n",
        "    acc_history = history.history['acc']\n",
        "    val_acc_history = history.history['val_acc']\n",
        "    all_acc_histories.append(acc_history)\n",
        "    all_val_acc_histories.append(val_acc_history)"
      ],
      "execution_count": 98,
      "outputs": [
        {
          "output_type": "stream",
          "name": "stdout",
          "text": [
            "processing fold # 0\n",
            "processing fold # 1\n",
            "processing fold # 2\n",
            "processing fold # 3\n"
          ]
        }
      ]
    },
    {
      "cell_type": "code",
      "metadata": {
        "colab": {
          "base_uri": "https://localhost:8080/"
        },
        "id": "NQwLOViiR3p4",
        "outputId": "bc8916e9-da5e-4e43-f7b0-bf8b0103e654"
      },
      "source": [
        "#モデルの訓練用データ、検証用データの正解率\n",
        "average_acc_history = [\n",
        "    np.mean([x[i] for x in all_acc_histories]) for i in range(num_epochs)]\n",
        "\n",
        "average_val_acc_history = [\n",
        "    np.mean([x[i] for x in all_val_acc_histories]) for i in range(num_epochs)]\n",
        "\n",
        "print('acc:',average_acc_history[num_epochs-1],'val_acc:',average_val_acc_history[num_epochs-1])"
      ],
      "execution_count": 105,
      "outputs": [
        {
          "output_type": "stream",
          "name": "stdout",
          "text": [
            "acc: 1.0 val_acc: 0.9366197288036346\n"
          ]
        }
      ]
    },
    {
      "cell_type": "code",
      "metadata": {
        "id": "roBG9R--5pOJ",
        "colab": {
          "base_uri": "https://localhost:8080/"
        },
        "outputId": "782b4cec-78da-48cd-c005-7597bf7bdaab"
      },
      "source": [
        "#テストデータによる評価\n",
        "test_mse_score, test_mae_score = model.evaluate(X_test, y_test)\n",
        "print(test_mse_score,test_mae_score)"
      ],
      "execution_count": 100,
      "outputs": [
        {
          "output_type": "stream",
          "name": "stdout",
          "text": [
            "5/5 [==============================] - 0s 3ms/step - loss: 0.2221 - acc: 0.9551\n",
            "0.2221355438232422 0.9551281929016113\n"
          ]
        }
      ]
    },
    {
      "cell_type": "code",
      "metadata": {
        "colab": {
          "base_uri": "https://localhost:8080/"
        },
        "id": "T-S_EcVHkXTr",
        "outputId": "1741617d-377c-466c-90a0-0934be086f2e"
      },
      "source": [
        "#非線形SVMによる分類\n",
        "from sklearn.svm import SVC\n",
        "from sklearn.metrics import accuracy_score\n",
        "k = 4\n",
        "\n",
        "def train_model(X_train, y_train, X_dev, y_dev):\n",
        "    best_c, best_gamma, best_score = 0, 0, 0\n",
        "    for c in [0.1, 1, 10]:\n",
        "      for g in [0.001, 0.0001]:\n",
        "        classifier = SVC(kernel='rbf', random_state=0, gamma=g, C=c)\n",
        "        classifier.fit(X_train, y_train)\n",
        "        dev_acc = accuracy_score(y_dev, classifier.predict(X_dev))\n",
        "        if best_score < dev_acc:\n",
        "            best_score = dev_acc\n",
        "            best_c = c\n",
        "            best_gamma = g\n",
        "        print(\"Dev accuracy = %1.3f\\tgamma = %s C = %s\" % (dev_acc, str(g), str(c)))\n",
        "    print(\"Best parameter: accuracy = %f\\tgamma = %s C = %s\" % (best_score,str(best_gamma), str(best_c)))\n",
        "    return best_c, best_gamma\n",
        "\n",
        "for i in range(k):\n",
        "    print('processing fold #', i)\n",
        "    \n",
        "    val_data = X_train[i * num_val_samples: (i + 1) * num_val_samples]\n",
        "    val_targets = y_train[i * num_val_samples: (i + 1) * num_val_samples]\n",
        "\n",
        "    partial_train_data = np.concatenate(\n",
        "        [X_train[:i * num_val_samples],\n",
        "         X_train[(i + 1) * num_val_samples:]],\n",
        "        axis=0)\n",
        "    partial_train_targets = np.concatenate(\n",
        "        [y_train[:i * num_val_samples],\n",
        "         y_train[(i + 1) * num_val_samples:]],\n",
        "        axis=0)\n",
        "    \n",
        "    best_c, best_gamma = train_model(partial_train_data, partial_train_targets, val_data, val_targets)"
      ],
      "execution_count": 101,
      "outputs": [
        {
          "output_type": "stream",
          "name": "stdout",
          "text": [
            "processing fold # 0\n",
            "Dev accuracy = 0.577\tgamma = 0.001 C = 0.1\n",
            "Dev accuracy = 0.577\tgamma = 0.0001 C = 0.1\n",
            "Dev accuracy = 0.845\tgamma = 0.001 C = 1\n",
            "Dev accuracy = 0.577\tgamma = 0.0001 C = 1\n",
            "Dev accuracy = 0.930\tgamma = 0.001 C = 10\n",
            "Dev accuracy = 0.845\tgamma = 0.0001 C = 10\n",
            "Best parameter: accuracy = 0.929577\tgamma = 0.001 C = 10\n",
            "processing fold # 1\n",
            "Dev accuracy = 0.507\tgamma = 0.001 C = 0.1\n",
            "Dev accuracy = 0.507\tgamma = 0.0001 C = 0.1\n",
            "Dev accuracy = 0.606\tgamma = 0.001 C = 1\n",
            "Dev accuracy = 0.507\tgamma = 0.0001 C = 1\n",
            "Dev accuracy = 0.803\tgamma = 0.001 C = 10\n",
            "Dev accuracy = 0.606\tgamma = 0.0001 C = 10\n",
            "Best parameter: accuracy = 0.802817\tgamma = 0.001 C = 10\n",
            "processing fold # 2\n",
            "Dev accuracy = 0.437\tgamma = 0.001 C = 0.1\n",
            "Dev accuracy = 0.437\tgamma = 0.0001 C = 0.1\n",
            "Dev accuracy = 0.690\tgamma = 0.001 C = 1\n",
            "Dev accuracy = 0.437\tgamma = 0.0001 C = 1\n",
            "Dev accuracy = 0.817\tgamma = 0.001 C = 10\n",
            "Dev accuracy = 0.718\tgamma = 0.0001 C = 10\n",
            "Best parameter: accuracy = 0.816901\tgamma = 0.001 C = 10\n",
            "processing fold # 3\n",
            "Dev accuracy = 0.662\tgamma = 0.001 C = 0.1\n",
            "Dev accuracy = 0.662\tgamma = 0.0001 C = 0.1\n",
            "Dev accuracy = 0.845\tgamma = 0.001 C = 1\n",
            "Dev accuracy = 0.662\tgamma = 0.0001 C = 1\n",
            "Dev accuracy = 0.887\tgamma = 0.001 C = 10\n",
            "Dev accuracy = 0.845\tgamma = 0.0001 C = 10\n",
            "Best parameter: accuracy = 0.887324\tgamma = 0.001 C = 10\n"
          ]
        }
      ]
    },
    {
      "cell_type": "code",
      "metadata": {
        "colab": {
          "base_uri": "https://localhost:8080/"
        },
        "id": "SAY8wX9HVCD2",
        "outputId": "f47cbf17-b477-495e-ecc6-5b874d92533d"
      },
      "source": [
        "def eval_model(X_train, y_train, X_test, y_test, best_c):\n",
        "    classifier = SVC(kernel='rbf', random_state=0, gamma=best_gamma, C=best_c)\n",
        "    classifier.fit(X_train, y_train)\n",
        "    test_acc = accuracy_score(y_test, classifier.predict(X_test))\n",
        "    print(\"Test accuracy = %1.3f\" % test_acc)\n",
        "\n",
        "eval_model(X_train, y_train, X_test, y_test, best_c)"
      ],
      "execution_count": 102,
      "outputs": [
        {
          "output_type": "stream",
          "name": "stdout",
          "text": [
            "Test accuracy = 0.897\n"
          ]
        }
      ]
    },
    {
      "cell_type": "markdown",
      "metadata": {
        "id": "5OHnATAyag0J"
      },
      "source": [
        "**Permutation Importance**\n",
        "\n",
        "\n",
        "> 検証用データの1つの特徴量の値をランダムに入れ替え、モデルに適用して正解率を出し、どのように特徴量が正解率に影響を与えているかを確認する\n",
        "\n"
      ]
    },
    {
      "cell_type": "code",
      "metadata": {
        "colab": {
          "base_uri": "https://localhost:8080/"
        },
        "id": "NPKKaXgrqdtt",
        "outputId": "9df02154-d69e-43b3-d15b-68b21615ac0e"
      },
      "source": [
        "#Permutation Importance\n",
        "all_Permutation_acc = np.empty(X.shape[1])\n",
        "\n",
        "for m in range(X_test.shape[1]):\n",
        "  ss=X_test\n",
        "  hh=ss[:,m]\n",
        "  ss=np.delete(ss,m,1)\n",
        "  hh=np.random.permutation(hh)\n",
        "  tt=np.insert(ss, m, hh, axis=1)\n",
        "  test_mse_score, test_mae_score = model.evaluate(tt,y_test)\n",
        "  all_Permutation_acc[m]=test_mae_score"
      ],
      "execution_count": 103,
      "outputs": [
        {
          "output_type": "stream",
          "name": "stdout",
          "text": [
            "5/5 [==============================] - 0s 3ms/step - loss: 0.2050 - acc: 0.9551\n",
            "5/5 [==============================] - 0s 3ms/step - loss: 0.2613 - acc: 0.9615\n",
            "5/5 [==============================] - 0s 3ms/step - loss: 1.2211 - acc: 0.8782\n",
            "5/5 [==============================] - 0s 3ms/step - loss: 0.3874 - acc: 0.9359\n",
            "5/5 [==============================] - 0s 3ms/step - loss: 0.3218 - acc: 0.9487\n",
            "5/5 [==============================] - 0s 3ms/step - loss: 0.2536 - acc: 0.9551\n",
            "5/5 [==============================] - 0s 3ms/step - loss: 0.1998 - acc: 0.9551\n",
            "5/5 [==============================] - 0s 3ms/step - loss: 0.2117 - acc: 0.9551\n",
            "5/5 [==============================] - 0s 3ms/step - loss: 0.3061 - acc: 0.9615\n",
            "5/5 [==============================] - 0s 4ms/step - loss: 0.2976 - acc: 0.9551\n",
            "5/5 [==============================] - 0s 3ms/step - loss: 0.2257 - acc: 0.9551\n",
            "5/5 [==============================] - 0s 3ms/step - loss: 0.3141 - acc: 0.9423\n",
            "5/5 [==============================] - 0s 3ms/step - loss: 0.4394 - acc: 0.9295\n",
            "5/5 [==============================] - 0s 3ms/step - loss: 0.2315 - acc: 0.9679\n",
            "5/5 [==============================] - 0s 3ms/step - loss: 0.6522 - acc: 0.8974\n",
            "5/5 [==============================] - 0s 3ms/step - loss: 0.3067 - acc: 0.9615\n",
            "5/5 [==============================] - 0s 3ms/step - loss: 0.3590 - acc: 0.9487\n",
            "5/5 [==============================] - 0s 4ms/step - loss: 0.2466 - acc: 0.9359\n",
            "5/5 [==============================] - 0s 3ms/step - loss: 0.7283 - acc: 0.9167\n",
            "5/5 [==============================] - 0s 3ms/step - loss: 0.2808 - acc: 0.9551\n",
            "5/5 [==============================] - 0s 3ms/step - loss: 0.3463 - acc: 0.9487\n",
            "5/5 [==============================] - 0s 3ms/step - loss: 0.3451 - acc: 0.9423\n",
            "5/5 [==============================] - 0s 3ms/step - loss: 0.4768 - acc: 0.9359\n",
            "5/5 [==============================] - 0s 3ms/step - loss: 0.3399 - acc: 0.9615\n",
            "5/5 [==============================] - 0s 3ms/step - loss: 0.2711 - acc: 0.9359\n",
            "5/5 [==============================] - 0s 3ms/step - loss: 0.2541 - acc: 0.9487\n",
            "5/5 [==============================] - 0s 3ms/step - loss: 0.7116 - acc: 0.9167\n",
            "5/5 [==============================] - 0s 3ms/step - loss: 0.5023 - acc: 0.9295\n",
            "5/5 [==============================] - 0s 3ms/step - loss: 0.1880 - acc: 0.9679\n",
            "5/5 [==============================] - 0s 3ms/step - loss: 0.3177 - acc: 0.9487\n",
            "5/5 [==============================] - 0s 3ms/step - loss: 0.2025 - acc: 0.9615\n",
            "5/5 [==============================] - 0s 3ms/step - loss: 0.2276 - acc: 0.9551\n",
            "5/5 [==============================] - 0s 3ms/step - loss: 0.2591 - acc: 0.9551\n",
            "5/5 [==============================] - 0s 3ms/step - loss: 0.3239 - acc: 0.9423\n",
            "5/5 [==============================] - 0s 3ms/step - loss: 0.1686 - acc: 0.9679\n",
            "5/5 [==============================] - 0s 3ms/step - loss: 0.2326 - acc: 0.9615\n",
            "5/5 [==============================] - 0s 3ms/step - loss: 0.4512 - acc: 0.9423\n",
            "5/5 [==============================] - 0s 4ms/step - loss: 0.4089 - acc: 0.9295\n",
            "5/5 [==============================] - 0s 3ms/step - loss: 0.2279 - acc: 0.9551\n",
            "5/5 [==============================] - 0s 3ms/step - loss: 0.2826 - acc: 0.9679\n",
            "5/5 [==============================] - 0s 3ms/step - loss: 0.3172 - acc: 0.9679\n",
            "5/5 [==============================] - 0s 3ms/step - loss: 0.6171 - acc: 0.9295\n",
            "5/5 [==============================] - 0s 3ms/step - loss: 0.1378 - acc: 0.9615\n"
          ]
        }
      ]
    },
    {
      "cell_type": "code",
      "metadata": {
        "colab": {
          "base_uri": "https://localhost:8080/"
        },
        "id": "rFonST1KsqW0",
        "outputId": "15cfe8a2-ff30-4d37-b3cd-90bdd4b1ccd4"
      },
      "source": [
        "#Permutation Importanceの結果をソート\n",
        "p = ['VPIP','Limp','PFR','Cold Call','3bet In Position','3bet Out of Position','Fold to 3Bet IP','Fold to 3Bet OOP','4Bet IP','4Bet OOP','Fold to 4Bet','5Bet (Raise 4Bet)','WTSD%','W$WSF','W$SD%','Agg','River Call Efficiency','Flop CBet IP%','Flop CBet OOP%','Flop Fold vs Cbet OOP','Flop Raise Cbet OOP','Flop Fold vs Cbet IP','Flop Raise Cbet IP','Bet Turn OOP vs Missed Flop CBet OOP','Turn CBet IP%','Turn CBet OOP%','Bet Flop vs Missed CBet','Fold Turn IP Skip CBet','Delayed Turn CBet% OOP','Check Fold Flop% As PFR','Check Raise Flop% As PFR','Delayed Turn CBet% IP','Turn Fold vs Cbet OOP','Bet River OOP vs Missed Turn CBet OOP','Turn Fold vs Cbet IP','Skip Turn CB and Fold To River Bet IP','Check Fold Turn OOP Skip CBet','Check Raise Turn OOP Skip CBet','Bet Turn IP vs Missed CBet','Flop CBet-Fold IP TOT','Flop CBet-Fold OOP TOT','River CBet OOP%','River CBet IP%']\n",
        "dfx = pd.DataFrame(data=all_Permutation_acc, index=p)\n",
        "print(dfx.sort_values(0))"
      ],
      "execution_count": 104,
      "outputs": [
        {
          "output_type": "stream",
          "name": "stdout",
          "text": [
            "                                              0\n",
            "PFR                                    0.878205\n",
            "W$SD%                                  0.897436\n",
            "Flop CBet OOP%                         0.916667\n",
            "Bet Flop vs Missed CBet                0.916667\n",
            "River CBet OOP%                        0.929487\n",
            "Check Raise Turn OOP Skip CBet         0.929487\n",
            "Fold Turn IP Skip CBet                 0.929487\n",
            "WTSD%                                  0.929487\n",
            "Turn CBet IP%                          0.935897\n",
            "Cold Call                              0.935897\n",
            "Flop CBet IP%                          0.935897\n",
            "Flop Raise Cbet IP                     0.935897\n",
            "Flop Fold vs Cbet IP                   0.942308\n",
            "Bet River OOP vs Missed Turn CBet OOP  0.942308\n",
            "Check Fold Turn OOP Skip CBet          0.942308\n",
            "5Bet (Raise 4Bet)                      0.942308\n",
            "River Call Efficiency                  0.948718\n",
            "3bet In Position                       0.948718\n",
            "Turn CBet OOP%                         0.948718\n",
            "Flop Raise Cbet OOP                    0.948718\n",
            "Check Fold Flop% As PFR                0.948718\n",
            "Delayed Turn CBet% IP                  0.955128\n",
            "Turn Fold vs Cbet OOP                  0.955128\n",
            "Bet Turn IP vs Missed CBet             0.955128\n",
            "VPIP                                   0.955128\n",
            "Flop Fold vs Cbet OOP                  0.955128\n",
            "3bet Out of Position                   0.955128\n",
            "Fold to 3Bet IP                        0.955128\n",
            "4Bet OOP                               0.955128\n",
            "Fold to 3Bet OOP                       0.955128\n",
            "Fold to 4Bet                           0.955128\n",
            "Check Raise Flop% As PFR               0.961538\n",
            "4Bet IP                                0.961538\n",
            "Bet Turn OOP vs Missed Flop CBet OOP   0.961538\n",
            "Skip Turn CB and Fold To River Bet IP  0.961538\n",
            "Agg                                    0.961538\n",
            "Limp                                   0.961538\n",
            "River CBet IP%                         0.961538\n",
            "Delayed Turn CBet% OOP                 0.967949\n",
            "Turn Fold vs Cbet IP                   0.967949\n",
            "W$WSF                                  0.967949\n",
            "Flop CBet-Fold IP TOT                  0.967949\n",
            "Flop CBet-Fold OOP TOT                 0.967949\n"
          ]
        }
      ]
    }
  ]
}