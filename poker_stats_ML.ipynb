{
  "nbformat": 4,
  "nbformat_minor": 0,
  "metadata": {
    "colab": {
      "name": "poker_stats_ML.ipynb",
      "provenance": [],
      "authorship_tag": "ABX9TyMWsvHiqvAhj1pNF0dU6H49",
      "include_colab_link": true
    },
    "kernelspec": {
      "name": "python3",
      "display_name": "Python 3"
    },
    "language_info": {
      "name": "python"
    }
  },
  "cells": [
    {
      "cell_type": "markdown",
      "metadata": {
        "id": "view-in-github",
        "colab_type": "text"
      },
      "source": [
        "<a href=\"https://colab.research.google.com/github/tsubasa05/Poker-Stats-Machine-learning/blob/main/poker_stats_ML.ipynb\" target=\"_parent\"><img src=\"https://colab.research.google.com/assets/colab-badge.svg\" alt=\"Open In Colab\"/></a>"
      ]
    },
    {
      "cell_type": "code",
      "metadata": {
        "id": "ki1s6ldBKDLH"
      },
      "source": [
        "%tensorflow_version 2.x"
      ],
      "execution_count": 1,
      "outputs": []
    },
    {
      "cell_type": "code",
      "metadata": {
        "id": "0WaDWIM2wSkp",
        "colab": {
          "base_uri": "https://localhost:8080/"
        },
        "outputId": "0712cf4a-e5a2-4ff0-8958-16eb4c12ae5b"
      },
      "source": [
        "from google.colab import drive\n",
        "drive.mount('/content/drive')"
      ],
      "execution_count": 2,
      "outputs": [
        {
          "output_type": "stream",
          "name": "stdout",
          "text": [
            "Mounted at /content/drive\n"
          ]
        }
      ]
    },
    {
      "cell_type": "code",
      "metadata": {
        "id": "RT23p2tNJE-K"
      },
      "source": [
        "#ライブラリーのインポート、初期設定\n",
        "import os\n",
        "import numpy as np\n",
        "import random as rn\n",
        "import tensorflow as tf\n",
        "import matplotlib.pyplot as plt\n",
        "import pandas as pd\n",
        "from pandas import DataFrame\n",
        "from sklearn.model_selection import train_test_split\n",
        "\n",
        "os.environ['PYTHONHASHSEED'] = '0'\n",
        "np.random.seed(7)\n",
        "rn.seed(7)\n",
        "\n",
        "session_conf = tf.compat.v1.ConfigProto(\n",
        "        intra_op_parallelism_threads=1,\n",
        "        inter_op_parallelism_threads=1\n",
        "    )\n",
        "sess = tf.compat.v1.Session(graph=tf.compat.v1.get_default_graph(), config=session_conf)\n",
        "tf.compat.v1.keras.backend.set_session(sess)"
      ],
      "execution_count": 3,
      "outputs": []
    },
    {
      "cell_type": "code",
      "metadata": {
        "id": "PQCafZ7wSNgH"
      },
      "source": [
        "#ドライブからデータを持ってくる\n",
        "df = pd.read_csv('/content/drive/My Drive/sample all.csv')\n",
        "alldata = pd.read_csv('/content/drive/My Drive/allhand all.csv')"
      ],
      "execution_count": 4,
      "outputs": []
    },
    {
      "cell_type": "code",
      "metadata": {
        "id": "NYM9a8YrTOYf"
      },
      "source": [
        "#必要のないコラムを削除\n",
        "df.drop(['Source.Name','Total Hands','bb/100','All-in Adj bb/100'], axis=1,inplace=True)"
      ],
      "execution_count": 5,
      "outputs": []
    },
    {
      "cell_type": "code",
      "metadata": {
        "id": "o9bN-6v1Th9G"
      },
      "source": [
        "#かぶりのある行の排除\n",
        "for i in range(0,len(df)-1,3):\n",
        "  df.drop(index=[i+1],inplace=True)\n",
        "  df.drop(index=[i+2],inplace=True)"
      ],
      "execution_count": 6,
      "outputs": []
    },
    {
      "cell_type": "code",
      "metadata": {
        "id": "D2xkFMs4YmPb"
      },
      "source": [
        "#かぶりのある行の排除\n",
        "for i in range(0,len(alldata)-1,3):\n",
        "  alldata.drop(index=[i+1],inplace=True)\n",
        "  alldata.drop(index=[i+2],inplace=True)"
      ],
      "execution_count": 7,
      "outputs": []
    },
    {
      "cell_type": "code",
      "metadata": {
        "id": "83OfHM2LZLYD"
      },
      "source": [
        "#3-5\n",
        "#alldataをプレイヤー名と成績のみのリストに変える\n",
        "N1 = alldata.loc[:,'All-in Adj bb/100']\n",
        "N2 = alldata.loc[:,'Player']\n",
        "\n",
        "alldata2 = pd.concat([N1, N2],axis=1)"
      ],
      "execution_count": 8,
      "outputs": []
    },
    {
      "cell_type": "code",
      "metadata": {
        "id": "8gyx0G5bdwcE"
      },
      "source": [
        "#3-6\n",
        "#ラベルとプレイヤーの統計を結合する\n",
        "df['label']=0\n",
        "for i in range(0,len(df)-1,1):\n",
        "  for k in range(0,len(alldata2)-1,1):\n",
        "    if alldata2.iat[k,1] == df.iat[i,0]:\n",
        "      if alldata2.iat[k,0] >= 3.72:\n",
        "        df.iat[i,len(df.columns)-1]=1"
      ],
      "execution_count": 9,
      "outputs": []
    },
    {
      "cell_type": "code",
      "metadata": {
        "id": "uyYH5b5Uo-fs"
      },
      "source": [
        "#3-7\n",
        "#player名の列を削除\n",
        "df.drop(['Player'], axis=1,inplace=True)"
      ],
      "execution_count": 10,
      "outputs": []
    },
    {
      "cell_type": "code",
      "metadata": {
        "id": "piPoqH-fa9jd"
      },
      "source": [
        "#1-4,3-8\n",
        "#欠測地の数を調べる\n",
        "s = df.isnull().sum()\n",
        "#これはseries型。データフレームに変換するし、転置\n",
        "k = pd.DataFrame(s).T\n",
        "#データフレーム型に変える必要はない。series型をそのまま追加。\n",
        "df.loc['欠測地'] = s"
      ],
      "execution_count": 11,
      "outputs": []
    },
    {
      "cell_type": "code",
      "metadata": {
        "id": "sTTl_-qX8YYu"
      },
      "source": [
        "#1-5,3-9\n",
        "#欠測地順にソート\n",
        "df.sort_values(by='欠測地', axis=1, ascending=True, inplace=True)"
      ],
      "execution_count": 12,
      "outputs": []
    },
    {
      "cell_type": "code",
      "metadata": {
        "id": "xEZyLQdVba_0"
      },
      "source": [
        "#1-6,3-10\n",
        "#欠測地が10以上の列を削除\n",
        "for i in df.columns.values:\n",
        "  if df.at['欠測地',i]>10:\n",
        "    df.drop(columns=i,inplace=True)"
      ],
      "execution_count": 13,
      "outputs": []
    },
    {
      "cell_type": "code",
      "metadata": {
        "id": "fuXFrap8bv6T"
      },
      "source": [
        "#1-7,3-11\n",
        "#欠測地の排除\n",
        "df.drop(index=['欠測地'],inplace=True)"
      ],
      "execution_count": 14,
      "outputs": []
    },
    {
      "cell_type": "code",
      "metadata": {
        "id": "7xTUMTfpmALR"
      },
      "source": [
        "#特徴量と教師に分ける\n",
        "#教師データ\n",
        "Y = df.loc[:,'label'].values\n",
        "#特徴量データから教師データを削除\n",
        "df.drop(columns='label',inplace=True)\n",
        "\n",
        "\n",
        "#特徴量データの作成\n",
        "X = df.loc[:,:].values"
      ],
      "execution_count": 15,
      "outputs": []
    },
    {
      "cell_type": "markdown",
      "metadata": {
        "id": "RfF9_NMIT05g"
      },
      "source": [
        "**学習の特徴量として使用する統計はサンプル数が100以上集まったものを利用する**"
      ]
    },
    {
      "cell_type": "code",
      "metadata": {
        "id": "dxqmedG1H92C"
      },
      "source": [
        "#学習に利用する統計のみ特徴量として抽出する\n",
        "X = df.loc[:,['VPIP','Limp','PFR','Cold Call','3bet In Position','3bet Out of Position','Fold to 3Bet IP','Fold to 3Bet OOP','4Bet IP','4Bet OOP','Fold to 4Bet','5Bet (Raise 4Bet)','WTSD%','W$WSF','W$SD%','Agg','River Call Efficiency','Flop CBet IP%','Flop CBet OOP%','Flop Fold vs Cbet OOP','Flop Raise Cbet OOP','Flop Fold vs Cbet IP','Flop Raise Cbet IP','Bet Turn OOP vs Missed Flop CBet OOP','Turn CBet IP%','Turn CBet OOP%','Bet Flop vs Missed CBet','Fold Turn IP Skip CBet','Delayed Turn CBet% OOP','Check Fold Flop% As PFR','Check Raise Flop% As PFR','Delayed Turn CBet% IP','Turn Fold vs Cbet OOP','Bet River OOP vs Missed Turn CBet OOP','Turn Fold vs Cbet IP','Skip Turn CB and Fold To River Bet IP','Check Fold Turn OOP Skip CBet','Check Raise Turn OOP Skip CBet','Bet Turn IP vs Missed CBet','Flop CBet-Fold IP TOT','Flop CBet-Fold OOP TOT','River CBet OOP%','River CBet IP%']].values"
      ],
      "execution_count": 16,
      "outputs": []
    },
    {
      "cell_type": "code",
      "metadata": {
        "id": "xibcmZxvaWXt"
      },
      "source": [
        "#欠測地の補完\n",
        "from sklearn.impute import SimpleImputer\n",
        "\n",
        "imr = SimpleImputer(missing_values=np.nan, strategy='mean')\n",
        "imr = imr.fit(X)\n",
        "X = imr.transform(X)"
      ],
      "execution_count": 23,
      "outputs": []
    },
    {
      "cell_type": "code",
      "metadata": {
        "id": "feUjR7IpmZ8v"
      },
      "source": [
        "#3-13\n",
        "from sklearn.model_selection import train_test_split\n",
        "\n",
        "X_train, X_test, y_train, y_test = train_test_split(\n",
        "    X, Y, test_size=0.3, random_state=0)"
      ],
      "execution_count": 26,
      "outputs": []
    },
    {
      "cell_type": "code",
      "metadata": {
        "id": "iTDlWEbl-_dr"
      },
      "source": [
        "#データの標準化\n",
        "mean = X_train.mean(axis=0)\n",
        "X_train -= mean\n",
        "std = X_train.std(axis=0)\n",
        "X_train /= std\n",
        "\n",
        "X_test -= mean\n",
        "X_test /= std"
      ],
      "execution_count": 27,
      "outputs": []
    },
    {
      "cell_type": "markdown",
      "metadata": {
        "id": "t7bmt44MUpdH"
      },
      "source": [
        "# モデルの選択および学習"
      ]
    },
    {
      "cell_type": "code",
      "metadata": {
        "id": "OUkK3I8wVcDM"
      },
      "source": [
        "#ニューラルネットワークによる分類モデル\n",
        "from tensorflow.keras import layers, models\n",
        "\n",
        "def build_model():\n",
        "    model = models.Sequential()\n",
        "    model.add(layers.Dense(50, activation='relu',\n",
        "                           input_shape=(X_train.shape[1],)))\n",
        "    model.add(layers.Dense(50, activation='relu'))\n",
        "    model.add(layers.Dense(1,activation = 'sigmoid'))\n",
        "    model.compile(optimizer='rmsprop', loss='binary_crossentropy', metrics=['acc'])\n",
        "    return model"
      ],
      "execution_count": 28,
      "outputs": []
    },
    {
      "cell_type": "code",
      "metadata": {
        "id": "TN4FCEt5EstX",
        "colab": {
          "base_uri": "https://localhost:8080/"
        },
        "outputId": "4f82551e-deb5-4493-921b-d6dea5562f54"
      },
      "source": [
        "#4分割交差検証\n",
        "k = 4\n",
        "num_val_samples = len(X_train) // k\n",
        "num_epochs = 1000\n",
        "all_scores = []\n",
        "all_acc_histories = []\n",
        "all_val_acc_histories = []\n",
        "for i in range(k):\n",
        "    print('processing fold #', i)\n",
        "    # Prepare the validation data: data from partition # k\n",
        "    val_data = X_train[i * num_val_samples: (i + 1) * num_val_samples]\n",
        "    val_targets = y_train[i * num_val_samples: (i + 1) * num_val_samples]\n",
        "\n",
        "    # Prepare the training data: data from all other partitions\n",
        "    partial_train_data = np.concatenate(\n",
        "        [X_train[:i * num_val_samples],\n",
        "         X_train[(i + 1) * num_val_samples:]],\n",
        "        axis=0)\n",
        "    partial_train_targets = np.concatenate(\n",
        "        [y_train[:i * num_val_samples],\n",
        "         y_train[(i + 1) * num_val_samples:]],\n",
        "        axis=0)\n",
        "\n",
        "    # Build the Keras model (already compiled)\n",
        "    model = build_model()\n",
        "    history = model.fit(partial_train_data, partial_train_targets,\n",
        "                        validation_data=(val_data, val_targets),\n",
        "                        epochs=num_epochs,batch_size=1, verbose=0)\n",
        "    \n",
        "    acc_history = history.history['acc']\n",
        "    val_acc_history = history.history['val_acc']\n",
        "    all_acc_histories.append(acc_history)\n",
        "    all_val_acc_histories.append(val_acc_history)"
      ],
      "execution_count": 33,
      "outputs": [
        {
          "output_type": "stream",
          "name": "stdout",
          "text": [
            "processing fold # 0\n",
            "processing fold # 1\n",
            "processing fold # 2\n",
            "processing fold # 3\n"
          ]
        }
      ]
    },
    {
      "cell_type": "code",
      "metadata": {
        "colab": {
          "base_uri": "https://localhost:8080/",
          "height": 297
        },
        "id": "NQwLOViiR3p4",
        "outputId": "cc73750c-efba-4fd8-94b1-f76101dcb145"
      },
      "source": [
        "#モデルの訓練用データ、検証用データの正解率\n",
        "average_acc_history = [\n",
        "    np.mean([x[i] for x in all_acc_histories]) for i in range(num_epochs)]\n",
        "\n",
        "average_val_acc_history = [\n",
        "    np.mean([x[i] for x in all_val_acc_histories]) for i in range(num_epochs)]\n",
        "\n",
        "plt.plot(range(1, len(average_acc_history) + 1), average_acc_history)\n",
        "plt.plot(range(1, len(average_val_acc_history) + 1), average_val_acc_history)\n",
        "plt.xlabel('Epochs')\n",
        "plt.ylabel('Validation acc')\n",
        "plt.show()\n",
        "print('acc:',average_acc_history[num_epochs-1],'val_acc:',average_val_acc_history[num_epochs-1])"
      ],
      "execution_count": 37,
      "outputs": [
        {
          "output_type": "display_data",
          "data": {
            "image/png": "[encoded data removed]",
            "text/plain": [
              "<Figure size 432x288 with 1 Axes>"
            ]
          },
          "metadata": {
            "needs_background": "light"
          }
        },
        {
          "output_type": "stream",
          "name": "stdout",
          "text": [
            "acc: 1.0 val_acc: 0.9318181872367859\n"
          ]
        }
      ]
    },
    {
      "cell_type": "code",
      "metadata": {
        "id": "roBG9R--5pOJ",
        "colab": {
          "base_uri": "https://localhost:8080/"
        },
        "outputId": "65f24f32-0a7c-42e9-fb70-0494f7b052dc"
      },
      "source": [
        "#テストデータによる評価\n",
        "test_mse_score, test_mae_score = model.evaluate(X_test, y_test)\n",
        "print(test_mse_score,test_mae_score)"
      ],
      "execution_count": 35,
      "outputs": [
        {
          "output_type": "stream",
          "name": "stdout",
          "text": [
            "5/5 [==============================] - 0s 3ms/step - loss: 0.6136 - acc: 0.9398\n",
            "0.6135825514793396 0.9398496150970459\n"
          ]
        }
      ]
    }
  ]
}